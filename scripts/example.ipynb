{
 "cells": [
  {
   "cell_type": "markdown",
   "metadata": {
    "pycharm": {
     "name": "#%% md\n"
    }
   },
   "source": [
    "## **Demo Notebook**\n",
    "\n",
    "This quick notebook will show how to\n",
    "\n",
    "* load config\n",
    "* create the dataset\n",
    "* make a model\n",
    "* load pretrained weights\n",
    "\n",
    "This notebook should be run directly from the `scripts/` directory."
   ]
  },
  {
   "cell_type": "markdown",
   "metadata": {
    "pycharm": {
     "name": "#%% md\n"
    }
   },
   "source": [
    "### **Config**\n",
    "\n",
    "Make sure to change the following paths\n",
    "* `DATASET_DIR`\n",
    "* `LABELS_DIR`"
   ]
  },
  {
   "cell_type": "code",
   "execution_count": null,
   "outputs": [],
   "source": [
    "from hydra import core, initialize, compose\n",
    "from omegaconf import OmegaConf\n",
    "\n",
    "import sys\n",
    "sys.path.append(\"/data/zhulianghui/ProjectB_BEV/cross_view_transformers\")\n",
    "\n",
    "\n",
    "# CHANGE ME\n",
    "DATASET_DIR = '/data/datasets/nuscenes'\n",
    "LABELS_DIR = '/data/datasets/cvt_gen_test'\n",
    "\n",
    "\n",
    "core.global_hydra.GlobalHydra.instance().clear()        # required for Hydra in notebooks\n",
    "\n",
    "initialize(config_path='../config')\n",
    "\n",
    "# Add additional command line overrides\n",
    "cfg = compose(\n",
    "    config_name='config',\n",
    "    overrides=[\n",
    "        'experiment.save_dir=../logs/',                 # required for Hydra in notebooks\n",
    "        '+experiment=cvt_nuscenes_vehicle',\n",
    "        f'data.dataset_dir={DATASET_DIR}',\n",
    "        f'data.labels_dir={LABELS_DIR}',\n",
    "        'data.version=v1.0-trainval',\n",
    "        'loader.batch_size=1',\n",
    "    ]\n",
    ")\n",
    "\n",
    "# resolve config references\n",
    "OmegaConf.resolve(cfg)\n",
    "\n",
    "print(list(cfg.keys()))\n",
    "print(cfg['visualization'])"
   ],
   "metadata": {
    "collapsed": false,
    "pycharm": {
     "name": "#%%\n"
    }
   }
  },
  {
   "cell_type": "markdown",
   "source": [
    "### **Dataset Setup**"
   ],
   "metadata": {
    "collapsed": false,
    "pycharm": {
     "name": "#%% md\n"
    }
   }
  },
  {
   "cell_type": "code",
   "execution_count": null,
   "outputs": [],
   "source": [
    "import torch\n",
    "import numpy as np\n",
    "\n",
    "from cross_view_transformer.common import setup_experiment, load_backbone\n",
    "\n",
    "\n",
    "# Additional splits can be added to cross_view_transformer/data/splits/nuscenes/\n",
    "SPLIT = 'val_qualitative_000'\n",
    "SUBSAMPLE = 5\n",
    "\n",
    "\n",
    "model, data, viz = setup_experiment(cfg)\n",
    "\n",
    "dataset = data.get_split(SPLIT, loader=False)\n",
    "dataset = torch.utils.data.ConcatDataset(dataset)\n",
    "dataset = torch.utils.data.Subset(dataset, range(0, len(dataset), SUBSAMPLE))\n",
    "\n",
    "loader = torch.utils.data.DataLoader(dataset, batch_size=1, shuffle=False, num_workers=2)\n",
    "\n",
    "print(len(dataset))"
   ],
   "metadata": {
    "collapsed": false,
    "pycharm": {
     "name": "#%%\n"
    }
   }
  },
  {
   "cell_type": "markdown",
   "source": [
    "### **Network Setup**"
   ],
   "metadata": {
    "collapsed": false,
    "pycharm": {
     "name": "#%% md\n"
    }
   }
  },
  {
   "cell_type": "code",
   "execution_count": null,
   "outputs": [],
   "source": [
    "from pathlib import Path\n",
    "\n",
    "\n",
    "# Download a pretrained model (13 Mb)\n",
    "# MODEL_URL = 'https://www.cs.utexas.edu/~bzhou/cvt/cvt_nuscenes_vehicles_50k.ckpt'\n",
    "# CHECKPOINT_PATH = '../logs/cvt_nuscenes_vehicles_50k.ckpt'\n",
    "# CHECKPOINT_PATH = '/data/zhulianghui/ProjectB_BEV/cross_view_transformers/logs/cross_view_transformers_test/version_16/checkpoints/model-v1.ckpt'\n",
    "CHECKPOINT_PATH = '/data/zhulianghui/ProjectX_Transformer/cross_view_transformers+/logs/cross_view_transformers_test_ori/version_1/checkpoints/model-v1.ckpt'\n",
    "CHECKPOINT_PATH = '/data/zhulianghui/ProjectB_BEV/cross_view_transformers/logs/cross_view_transformers_test/version_24/checkpoints/model-v1.ckpt'\n",
    "# !wget $MODEL_URL -O $CHECKPOINT_PATH\n",
    "\n",
    "\n",
    "if Path(CHECKPOINT_PATH).exists():\n",
    "    network = load_backbone(CHECKPOINT_PATH)\n",
    "else:\n",
    "    network = model.backbone\n",
    "\n",
    "    print(f'{CHECKPOINT_PATH} not found. Using randomly initialized weights.')"
   ],
   "metadata": {
    "collapsed": false,
    "pycharm": {
     "name": "#%%\n"
    }
   }
  },
  {
   "cell_type": "markdown",
   "source": [
    "### **Run the Model**\n",
    "\n",
    "This cell will save the model predictions and render them as a gif.\n",
    "\n",
    "Note: colors will be ugly since gif only supports 256 colors total"
   ],
   "metadata": {
    "collapsed": false,
    "pycharm": {
     "name": "#%% md\n"
    }
   }
  },
  {
   "cell_type": "code",
   "execution_count": null,
   "outputs": [],
   "source": [
    "import torch\n",
    "import time\n",
    "import imageio\n",
    "import ipywidgets as widgets\n",
    "\n",
    "\n",
    "GIF_PATH = './predictions.gif'\n",
    "\n",
    "print(\"decide device...\")\n",
    "\n",
    "device = torch.device('cuda' if torch.cuda.is_available() else 'cpu')\n",
    "\n",
    "print(device)\n",
    "\n",
    "network.to(device)\n",
    "network.eval()\n",
    "\n",
    "images = list()\n",
    "\n",
    "print(\"loader len is : \", len(loader))\n",
    "\n"
   ],
   "metadata": {
    "collapsed": false,
    "pycharm": {
     "name": "#%%\n"
    }
   }
  },
  {
   "cell_type": "markdown",
   "source": [
    "# test all"
   ],
   "metadata": {
    "collapsed": false,
    "pycharm": {
     "name": "#%% md\n"
    }
   }
  },
  {
   "cell_type": "code",
   "execution_count": null,
   "outputs": [],
   "source": [
    "with torch.no_grad():\n",
    "    for batch in loader:\n",
    "        batch = {k: v.to(device) if isinstance(v, torch.Tensor) else v for k, v in batch.items()}\n",
    "        pred = network(batch)\n",
    "\n",
    "        visualization = np.vstack(viz(batch=batch, pred=pred))\n",
    "\n",
    "        images.append(visualization)\n",
    "        \n",
    "        break"
   ],
   "metadata": {
    "collapsed": false,
    "pycharm": {
     "name": "#%%\n"
    }
   }
  },
  {
   "cell_type": "markdown",
   "source": [
    "# test instance displace"
   ],
   "metadata": {
    "collapsed": false,
    "pycharm": {
     "name": "#%% md\n"
    }
   }
  },
  {
   "cell_type": "code",
   "execution_count": null,
   "outputs": [],
   "source": [
    "from cross_view_transformer.utils.instance import predict_instance_segmentation_and_trajectories\n",
    "\n",
    "def colorize_displacement(disp, if_scale=False):\n",
    "\n",
    "    if if_scale:\n",
    "        pos = np.where(disp < 254)\n",
    "        disp[pos] = disp[pos] * 5 * 2\n",
    "\n",
    "\n",
    "    import matplotlib.colors\n",
    "    import math\n",
    "\n",
    "    a = (np.arctan2(-disp[0], -disp[1]) / math.pi + 1) / 2\n",
    "\n",
    "    r = np.sqrt(disp[0] ** 2 + disp[1] ** 2)\n",
    "    s = r / np.max(r)\n",
    "    hsv_color = np.stack((a, s, np.ones_like(a)), axis=-1)\n",
    "    rgb_color = matplotlib.colors.hsv_to_rgb(hsv_color)\n",
    "\n",
    "    import matplotlib.pylab as plt\n",
    "    plt.imshow(rgb_color)\n",
    "    plt.show()\n",
    "\n",
    "    return rgb_color\n",
    "\n",
    "jump_flag = 1\n",
    "\n",
    "import matplotlib\n",
    "with torch.no_grad():\n",
    "    for batch in loader:\n",
    "        \n",
    "        jump_flag -= 1\n",
    "        if jump_flag != 0:\n",
    "            continue\n",
    "        \n",
    "        batch = {k: v.to(device) if isinstance(v, torch.Tensor) else v for k, v in batch.items()}\n",
    "        # batch keys\n",
    "        print('batch keys: ', batch.keys())\n",
    "        print('center shape: ', batch['center'].shape)\n",
    "        print('instance shape: ', batch['instance_bev'].shape)\n",
    "        print('instance unique: ', torch.unique(batch['instance_bev']))\n",
    "        import matplotlib.pylab as plt\n",
    "        plt.imshow(batch['instance_bev'][0, 0, :, :].cpu())\n",
    "        plt.show()\n",
    "        print('disp shape: ', batch['offset_bev'].shape)\n",
    "        \n",
    "        \n",
    "        disp = batch['offset_bev'].squeeze(0).cpu().numpy()\n",
    "        print('disp shape: ', disp.shape)\n",
    "        \n",
    "        disp_color = colorize_displacement(disp, if_scale=True)\n",
    "        \n",
    "#         matplotlib.pyplot.figure(figsize=(90, 25))\n",
    "#         matplotlib.pyplot.imshow(pred['center'].squeeze(0).squeeze(0).cpu())\n",
    "#         matplotlib.pyplot.show()\n",
    "#         matplotlib.pyplot.imshow(pred_consistent_instance_seg.squeeze(0).squeeze(0).cpu())\n",
    "#         matplotlib.pyplot.show()\n",
    "        \n",
    "        break\n",
    "\n",
    "# end the debug\n",
    "# import sys; sys.exit()"
   ],
   "metadata": {
    "collapsed": false,
    "pycharm": {
     "name": "#%%\n"
    }
   }
  },
  {
   "cell_type": "markdown",
   "source": [
    "# test center process"
   ],
   "metadata": {
    "collapsed": false,
    "pycharm": {
     "name": "#%% md\n"
    }
   }
  },
  {
   "cell_type": "code",
   "execution_count": null,
   "outputs": [],
   "source": [
    "from cross_view_transformer.utils.instance import predict_instance_segmentation_and_trajectories\n",
    "\n",
    "jump_flag = 1\n",
    "\n",
    "import matplotlib\n",
    "with torch.no_grad():\n",
    "    for batch in loader:\n",
    "        jump_flag -= 1\n",
    "        if jump_flag != 0:\n",
    "            continue\n",
    "        batch = {k: v.to(device) if isinstance(v, torch.Tensor) else v for k, v in batch.items()}\n",
    "        \n",
    "        # batch keys\n",
    "        print('batch keys: ', batch.keys())\n",
    "        \n",
    "        pred = network(batch)\n",
    "        \n",
    "        # center scale\n",
    "        \n",
    "        # version: 1\n",
    "        # pos = torch.where(pred['center'] > 0)\n",
    "        # pred['center'][pos] *= 10\n",
    "        # print(\"postive center: \", pred['center'][pos].unique())\n",
    "        \n",
    "        # version: 2\n",
    "        pred['center'] = torch.sigmoid(pred['center'])\n",
    "        \n",
    "        # version: 3\n",
    "#         pred['center'] = batch['center']\n",
    "        \n",
    "        \n",
    "        # for center process preprocess\n",
    "        n, c, h, w = pred['bev'].shape\n",
    "        \n",
    "        ground_truth = batch['bev'][:, 4:8,:,:].sum(1, keepdim=False)\n",
    "        \n",
    "        print('ground_truth shape: ', ground_truth.shape)\n",
    "        print(ground_truth)\n",
    "        \n",
    "#         pred['segmentation'] = ground_truth.unsqueeze(1).cpu() * 0.6\n",
    "#         pred['segmentation'] = pred['bev'].unsqueeze(1).cpu()\n",
    "        # sigmoid bev version\n",
    "        pred['segmentation'] = torch.sigmoid(pred['bev'].unsqueeze(1).cpu())\n",
    "\n",
    "        print('pred shape: ', pred['segmentation'].shape)\n",
    "        pred['instance_center'] = pred['center'].unsqueeze(1).cpu()\n",
    "        # pred['instance_offset'] = torch.zeros([n, 1, 2, h, w])\n",
    "        pred['instance_offset'] = batch['offset_bev'].unsqueeze(0).cpu()\n",
    "        \n",
    "        print('center shape: ', pred['center'].shape)\n",
    "        print('center unique: ', pred['center'].unique)\n",
    "        print(pred['instance_offset'].shape)\n",
    "        \n",
    "        \n",
    "        pred['instance_flow'] = None\n",
    "        thresh = 0.4 * torch.ones_like(pred['segmentation'], device=pred['segmentation'].device)\n",
    "        pred['segmentation'] = torch.cat((thresh, pred['segmentation']), 2)\n",
    "        # center generation\n",
    "        pred_consistent_instance_seg = predict_instance_segmentation_and_trajectories(\n",
    "                pred, compute_matched_centers=False, make_consistent=True\n",
    "            )\n",
    "        \n",
    "        print('instance seg len: ', len(pred_consistent_instance_seg))\n",
    "#         import sys; sys.exit()\n",
    "        print('instance seg shape: ', pred_consistent_instance_seg.shape)\n",
    "        \n",
    "        ins_np = pred_consistent_instance_seg.numpy()\n",
    "        print('ins np unique: ', np.unique(ins_np))\n",
    "        \n",
    "#         pos = np.where(ins_np != 0)\n",
    "#         print('ins np non-zero location: ', pos)\n",
    "        \n",
    "        # contents in pred\n",
    "        print(pred.keys())\n",
    "        print(pred['bev'].shape)\n",
    "\n",
    "        visualization = np.vstack(viz(batch=batch, pred=pred))\n",
    "        \n",
    "        # show details of pred['center']\n",
    "        # visualization = pred['center'].cpu()\n",
    "\n",
    "        # print origin gt\n",
    "        # visualization = np.vstack(viz(batch=batch))\n",
    "\n",
    "        images.append(visualization)\n",
    "        \n",
    "        # get cropped shape\n",
    "        visualization = visualization[:, -200:, :]\n",
    "        print(visualization.shape)\n",
    "        \n",
    "        # get np version\n",
    "        v_np = visualization\n",
    "        print('max: ', v_np.max())\n",
    "        print('min: ', v_np.min())\n",
    "        print('unique: ', np.unique(v_np))\n",
    "        \n",
    "\n",
    "        matplotlib.pyplot.figure(figsize=(90, 25))\n",
    "#         matplotlib.pyplot.imshow(visualization)\n",
    "        matplotlib.pyplot.imshow(pred['center'].squeeze(0).squeeze(0).cpu())\n",
    "        matplotlib.pyplot.show()\n",
    "        matplotlib.pyplot.imshow(pred_consistent_instance_seg.squeeze(0).squeeze(0).cpu())\n",
    "        matplotlib.pyplot.show()\n",
    "        \n",
    "        # test metric\n",
    "#         !pip list\n",
    "#         from pytorch_lightning.metrics.metric import Metric\n",
    "#         from torchmetrics import Metric\n",
    "#         from torchmetrics.classification import stat_scores_multiple_classes\n",
    "#         from pytorch_lightning.metrics.functional.reduction import reduce\n",
    "\n",
    "        # test video format input\n",
    "#         pred_consistent_instance_seg = pred_consistent_instance_seg.unsqueeze(0)\n",
    "#         batch['instance_bev'] = batch['instance_bev'].unsqueeze(0)\n",
    "\n",
    "        from cross_view_transformer.metrics import PanopticMetric\n",
    "        metric_panoptic_val = PanopticMetric(n_classes=2)\n",
    "        print(\"instance bev pred shape: \", pred_consistent_instance_seg.shape)\n",
    "        print(\"instance bev pred type: \", pred_consistent_instance_seg.dtype)\n",
    "        print(\"instance bev gt shape:\", batch['instance_bev'].shape)\n",
    "        print(\"instance bev gt type: \", batch['instance_bev'].dtype)\n",
    "        \n",
    "        print(\"instance_bev_unique before turn: \", torch.unique(batch['instance_bev']))\n",
    "#         batch['instance_bev'] = batch['instance_bev'].type_as(pred_consistent_instance_seg)\n",
    "        print(\"instance_bev_unique after turn: \", torch.unique(batch['instance_bev']))\n",
    "        \n",
    "        # save result for test\n",
    "        import numpy as np\n",
    "        np.save('./pred.npy', pred_consistent_instance_seg.cpu().numpy())\n",
    "        np.save('./gt.npy', batch['instance_bev'].cpu().numpy())\n",
    "        \n",
    "        # instance gt process\n",
    "        ins_gt = batch['instance_bev']\n",
    "        ins_gt_unique = torch.unique(batch['instance_bev'])\n",
    "        ins_gt_int = torch.zeros_like(batch['instance_bev'], dtype=torch.int64)\n",
    "        for i in range(len(ins_gt_unique)):\n",
    "            pos = torch.where(ins_gt == ins_gt_unique[i])\n",
    "            ins_gt_int[pos] = i\n",
    "        \n",
    "        print('ins_gt_int unique: ', torch.unique(ins_gt_int))\n",
    "        metric_panoptic_val(pred_consistent_instance_seg.cpu(), ins_gt_int.cpu())\n",
    "        # gt test\n",
    "#         metric_panoptic_val(ins_gt_int.cpu(), ins_gt_int.cpu())    \n",
    "    \n",
    "        scores = metric_panoptic_val.compute()\n",
    "        print(\"instance scores: \", scores)\n",
    "        \n",
    "#         print(\"instance metric res: \", res)\n",
    "        \n",
    "        print(\"instance metric iou: \", metric_panoptic_val.iou)\n",
    "        \n",
    "        break\n",
    "\n",
    "# end the debug\n",
    "import sys; sys.exit()"
   ],
   "metadata": {
    "collapsed": false,
    "pycharm": {
     "name": "#%%\n"
    }
   }
  },
  {
   "cell_type": "markdown",
   "source": [
    "# test my visualize"
   ],
   "metadata": {
    "collapsed": false,
    "pycharm": {
     "name": "#%% md\n"
    }
   }
  },
  {
   "cell_type": "code",
   "execution_count": null,
   "outputs": [],
   "source": [
    "import matplotlib\n",
    "with torch.no_grad():\n",
    "    for batch in loader:\n",
    "        batch = {k: v.to(device) if isinstance(v, torch.Tensor) else v for k, v in batch.items()}\n",
    "        pred = network(batch)\n",
    "        \n",
    "        # contents in pred\n",
    "        print(pred.keys())\n",
    "        print(pred['bev'].shape)\n",
    "\n",
    "        visualization = np.vstack(viz(batch=batch, pred=pred))\n",
    "\n",
    "        # print origin gt\n",
    "        # visualization = np.vstack(viz(batch=batch))\n",
    "\n",
    "        images.append(visualization)\n",
    "        \n",
    "        # get cropped shape\n",
    "        visualization = visualization[:, -200:, :]\n",
    "        print(visualization.shape)\n",
    "        \n",
    "        # get np version\n",
    "        v_np = visualization\n",
    "        print('max: ', v_np.max())\n",
    "        print('min: ', v_np.min())\n",
    "        print('unique: ', np.unique(v_np))\n",
    "        \n",
    "\n",
    "        matplotlib.pyplot.figure(figsize=(90, 25))\n",
    "        matplotlib.pyplot.imshow(visualization)\n",
    "        matplotlib.pyplot.imshow(pred['center'].squeeze(0).squeeze(0).cpu())\n",
    "        matplotlib.pyplot.show()\n",
    "        \n",
    "        break\n"
   ],
   "metadata": {
    "collapsed": false,
    "pycharm": {
     "name": "#%%\n"
    }
   }
  },
  {
   "cell_type": "markdown",
   "source": [
    "# Origin Gif Generation"
   ],
   "metadata": {
    "collapsed": false,
    "pycharm": {
     "name": "#%% md\n"
    }
   }
  },
  {
   "cell_type": "code",
   "execution_count": null,
   "outputs": [],
   "source": [
    "\n",
    "with torch.no_grad():\n",
    "    for batch in loader:\n",
    "        batch = {k: v.to(device) if isinstance(v, torch.Tensor) else v for k, v in batch.items()}\n",
    "        pred = network(batch)\n",
    "\n",
    "        visualization = np.vstack(viz(batch=batch, pred=pred))\n",
    "\n",
    "        images.append(visualization)\n",
    "        \n",
    "        break\n",
    "\n",
    "\n",
    "print(\"ready to save...\")\n",
    "# Save a gif\n",
    "duration = [1 for _ in images[:-1]] + [5 for _ in images[-1:]]\n",
    "imageio.mimsave(GIF_PATH, images, duration=duration)\n",
    "\n",
    "html = f'''\n",
    "<div align=\"center\">\n",
    "<img src=\"{GIF_PATH}?modified={time.time()}\" width=\"80%\">\n",
    "</div>\n",
    "'''\n",
    "\n",
    "display(widgets.HTML(html))"
   ],
   "metadata": {
    "collapsed": false,
    "pycharm": {
     "name": "#%%\n"
    }
   }
  },
  {
   "cell_type": "markdown",
   "source": [],
   "metadata": {
    "collapsed": false,
    "pycharm": {
     "name": "#%% md\n"
    }
   }
  },
  {
   "cell_type": "markdown",
   "source": [
    "# BEV 问题 08.15\n",
    "* center中点不为1\n",
    "* 没有instance seg 的标注\n",
    "* 没有instance bbox 的标注"
   ],
   "metadata": {
    "collapsed": false,
    "pycharm": {
     "name": "#%% md\n"
    }
   }
  },
  {
   "cell_type": "markdown",
   "source": [
    "# cvt instance seg baseline\n",
    "* step1：prediction\n",
    "    * 语义分割\n",
    "    * 中心点分割\n",
    "    * offset回归\n",
    "* step2：post process\n",
    "    * center point threshold & maxpooling\n",
    "    * group center location & assign"
   ],
   "metadata": {
    "collapsed": false,
    "pycharm": {
     "name": "#%% md\n"
    }
   }
  },
  {
   "cell_type": "code",
   "execution_count": null,
   "outputs": [],
   "source": [],
   "metadata": {
    "collapsed": false,
    "pycharm": {
     "name": "#%%\n"
    }
   }
  },
  {
   "cell_type": "markdown",
   "source": [
    "# test all"
   ],
   "metadata": {
    "collapsed": false,
    "pycharm": {
     "name": "#%% md\n"
    }
   }
  },
  {
   "cell_type": "code",
   "execution_count": null,
   "outputs": [],
   "source": [
    "with torch.no_grad():\n",
    "    for batch in loader:\n",
    "        batch = {k: v.to(device) if isinstance(v, torch.Tensor) else v for k, v in batch.items()}\n",
    "        pred = network(batch)\n",
    "\n",
    "        visualization = np.vstack(viz(batch=batch, pred=pred))\n",
    "\n",
    "        images.append(visualization)\n",
    "        \n",
    "        break"
   ],
   "metadata": {
    "collapsed": false,
    "pycharm": {
     "name": "#%%\n"
    }
   }
  },
  {
   "cell_type": "markdown",
   "source": [
    "# test instance dispalace"
   ],
   "metadata": {
    "collapsed": false,
    "pycharm": {
     "name": "#%% md\n"
    }
   }
  },
  {
   "cell_type": "code",
   "execution_count": null,
   "outputs": [],
   "source": [
    "from cross_view_transformer.utils.instance import predict_instance_segmentation_and_trajectories\n",
    "\n",
    "def colorize_displacement(disp, if_scale=False):\n",
    "\n",
    "    if if_scale:\n",
    "        pos = np.where(disp < 254)\n",
    "        disp[pos] = disp[pos] * 5 * 2\n",
    "\n",
    "\n",
    "    import matplotlib.colors\n",
    "    import math\n",
    "\n",
    "    a = (np.arctan2(-disp[0], -disp[1]) / math.pi + 1) / 2\n",
    "\n",
    "    r = np.sqrt(disp[0] ** 2 + disp[1] ** 2)\n",
    "    s = r / np.max(r)\n",
    "    hsv_color = np.stack((a, s, np.ones_like(a)), axis=-1)\n",
    "    rgb_color = matplotlib.colors.hsv_to_rgb(hsv_color)\n",
    "\n",
    "    import matplotlib.pylab as plt\n",
    "    plt.imshow(rgb_color)\n",
    "    plt.show()\n",
    "\n",
    "    return rgb_color\n",
    "\n",
    "jump_flag = 1\n",
    "\n",
    "import matplotlib\n",
    "with torch.no_grad():\n",
    "    for batch in loader:\n",
    "        \n",
    "        jump_flag -= 1\n",
    "        if jump_flag != 0:\n",
    "            continue\n",
    "        \n",
    "        batch = {k: v.to(device) if isinstance(v, torch.Tensor) else v for k, v in batch.items()}\n",
    "        # batch keys\n",
    "        print('batch keys: ', batch.keys())\n",
    "        print('center shape: ', batch['center'].shape)\n",
    "        print('instance shape: ', batch['instance_bev'].shape)\n",
    "        print('instance unique: ', torch.unique(batch['instance_bev']))\n",
    "        import matplotlib.pylab as plt\n",
    "        plt.imshow(batch['instance_bev'][0, 0, :, :].cpu())\n",
    "        plt.show()\n",
    "        print('disp shape: ', batch['offset_bev'].shape)\n",
    "        \n",
    "        \n",
    "        disp = batch['offset_bev'].squeeze(0).cpu().numpy()\n",
    "        print('disp shape: ', disp.shape)\n",
    "        \n",
    "        disp_color = colorize_displacement(disp, if_scale=True)\n",
    "        \n",
    "#         matplotlib.pyplot.figure(figsize=(90, 25))\n",
    "#         matplotlib.pyplot.imshow(pred['center'].squeeze(0).squeeze(0).cpu())\n",
    "#         matplotlib.pyplot.show()\n",
    "#         matplotlib.pyplot.imshow(pred_consistent_instance_seg.squeeze(0).squeeze(0).cpu())\n",
    "#         matplotlib.pyplot.show()\n",
    "        \n",
    "        break\n",
    "\n",
    "# end the debug\n",
    "# import sys; sys.exit()"
   ],
   "metadata": {
    "collapsed": false,
    "pycharm": {
     "name": "#%%\n"
    }
   }
  },
  {
   "cell_type": "markdown",
   "source": [
    "# test center process"
   ],
   "metadata": {
    "collapsed": false,
    "pycharm": {
     "name": "#%% md\n"
    }
   }
  },
  {
   "cell_type": "code",
   "execution_count": null,
   "outputs": [],
   "source": [
    "from cross_view_transformer.utils.instance import predict_instance_segmentation_and_trajectories\n",
    "\n",
    "jump_flag = 1\n",
    "\n",
    "import matplotlib\n",
    "with torch.no_grad():\n",
    "    for batch in loader:\n",
    "        jump_flag -= 1\n",
    "        if jump_flag != 0:\n",
    "            continue\n",
    "        batch = {k: v.to(device) if isinstance(v, torch.Tensor) else v for k, v in batch.items()}\n",
    "        \n",
    "        # batch keys\n",
    "        print('batch keys: ', batch.keys())\n",
    "        \n",
    "        pred = network(batch)\n",
    "        \n",
    "        # center scale\n",
    "        \n",
    "        # version: 1\n",
    "        # pos = torch.where(pred['center'] > 0)\n",
    "        # pred['center'][pos] *= 10\n",
    "        # print(\"postive center: \", pred['center'][pos].unique())\n",
    "        \n",
    "        # version: 2\n",
    "        pred['center'] = torch.sigmoid(pred['center'])\n",
    "        \n",
    "        # version: 3\n",
    "#         pred['center'] = batch['center']\n",
    "        \n",
    "        \n",
    "        # for center process preprocess\n",
    "        n, c, h, w = pred['bev'].shape\n",
    "        \n",
    "        ground_truth = batch['bev'][:, 4:8,:,:].sum(1, keepdim=False)\n",
    "        \n",
    "        print('ground_truth shape: ', ground_truth.shape)\n",
    "        print(ground_truth)\n",
    "        \n",
    "#         pred['segmentation'] = ground_truth.unsqueeze(1).cpu() * 0.6\n",
    "#         pred['segmentation'] = pred['bev'].unsqueeze(1).cpu()\n",
    "        # sigmoid bev version\n",
    "        pred['segmentation'] = torch.sigmoid(pred['bev'].unsqueeze(1).cpu())\n",
    "\n",
    "        print('pred shape: ', pred['segmentation'].shape)\n",
    "        pred['instance_center'] = pred['center'].unsqueeze(1).cpu()\n",
    "        # pred['instance_offset'] = torch.zeros([n, 1, 2, h, w])\n",
    "        pred['instance_offset'] = batch['offset_bev'].unsqueeze(0).cpu()\n",
    "        \n",
    "        print('center shape: ', pred['center'].shape)\n",
    "        print('center unique: ', pred['center'].unique)\n",
    "        print(pred['instance_offset'].shape)\n",
    "        \n",
    "        \n",
    "        pred['instance_flow'] = None\n",
    "        thresh = 0.4 * torch.ones_like(pred['segmentation'], device=pred['segmentation'].device)\n",
    "        pred['segmentation'] = torch.cat((thresh, pred['segmentation']), 2)\n",
    "        # center generation\n",
    "        pred_consistent_instance_seg = predict_instance_segmentation_and_trajectories(\n",
    "                pred, compute_matched_centers=False, make_consistent=True\n",
    "            )\n",
    "        \n",
    "        print('instance seg len: ', len(pred_consistent_instance_seg))\n",
    "#         import sys; sys.exit()\n",
    "        print('instance seg shape: ', pred_consistent_instance_seg.shape)\n",
    "        \n",
    "        ins_np = pred_consistent_instance_seg.numpy()\n",
    "        print('ins np unique: ', np.unique(ins_np))\n",
    "        \n",
    "#         pos = np.where(ins_np != 0)\n",
    "#         print('ins np non-zero location: ', pos)\n",
    "        \n",
    "        # contents in pred\n",
    "        print(pred.keys())\n",
    "        print(pred['bev'].shape)\n",
    "\n",
    "        visualization = np.vstack(viz(batch=batch, pred=pred))\n",
    "        \n",
    "        # show details of pred['center']\n",
    "        # visualization = pred['center'].cpu()\n",
    "\n",
    "        # print origin gt\n",
    "        # visualization = np.vstack(viz(batch=batch))\n",
    "\n",
    "        images.append(visualization)\n",
    "        \n",
    "        # get cropped shape\n",
    "        visualization = visualization[:, -200:, :]\n",
    "        print(visualization.shape)\n",
    "        \n",
    "        # get np version\n",
    "        v_np = visualization\n",
    "        print('max: ', v_np.max())\n",
    "        print('min: ', v_np.min())\n",
    "        print('unique: ', np.unique(v_np))\n",
    "        \n",
    "\n",
    "        matplotlib.pyplot.figure(figsize=(90, 25))\n",
    "#         matplotlib.pyplot.imshow(visualization)\n",
    "        matplotlib.pyplot.imshow(pred['center'].squeeze(0).squeeze(0).cpu())\n",
    "        matplotlib.pyplot.show()\n",
    "        matplotlib.pyplot.imshow(pred_consistent_instance_seg.squeeze(0).squeeze(0).cpu())\n",
    "        matplotlib.pyplot.show()\n",
    "        \n",
    "        # test metric\n",
    "#         !pip list\n",
    "#         from pytorch_lightning.metrics.metric import Metric\n",
    "#         from torchmetrics import Metric\n",
    "#         from torchmetrics.classification import stat_scores_multiple_classes\n",
    "#         from pytorch_lightning.metrics.functional.reduction import reduce\n",
    "\n",
    "        # test video format input\n",
    "#         pred_consistent_instance_seg = pred_consistent_instance_seg.unsqueeze(0)\n",
    "#         batch['instance_bev'] = batch['instance_bev'].unsqueeze(0)\n",
    "\n",
    "        from cross_view_transformer.metrics import PanopticMetric\n",
    "        metric_panoptic_val = PanopticMetric(n_classes=2)\n",
    "        print(\"instance bev pred shape: \", pred_consistent_instance_seg.shape)\n",
    "        print(\"instance bev pred type: \", pred_consistent_instance_seg.dtype)\n",
    "        print(\"instance bev gt shape:\", batch['instance_bev'].shape)\n",
    "        print(\"instance bev gt type: \", batch['instance_bev'].dtype)\n",
    "        \n",
    "        print(\"instance_bev_unique before turn: \", torch.unique(batch['instance_bev']))\n",
    "#         batch['instance_bev'] = batch['instance_bev'].type_as(pred_consistent_instance_seg)\n",
    "        print(\"instance_bev_unique after turn: \", torch.unique(batch['instance_bev']))\n",
    "        \n",
    "        # save result for test\n",
    "        import numpy as np\n",
    "        np.save('./pred.npy', pred_consistent_instance_seg.cpu().numpy())\n",
    "        np.save('./gt.npy', batch['instance_bev'].cpu().numpy())\n",
    "        \n",
    "        # instance gt process\n",
    "        ins_gt = batch['instance_bev']\n",
    "        ins_gt_unique = torch.unique(batch['instance_bev'])\n",
    "        ins_gt_int = torch.zeros_like(batch['instance_bev'], dtype=torch.int64)\n",
    "        for i in range(len(ins_gt_unique)):\n",
    "            pos = torch.where(ins_gt == ins_gt_unique[i])\n",
    "            ins_gt_int[pos] = i\n",
    "        \n",
    "        print('ins_gt_int unique: ', torch.unique(ins_gt_int))\n",
    "        metric_panoptic_val(pred_consistent_instance_seg.cpu(), ins_gt_int.cpu())\n",
    "        # gt test\n",
    "#         metric_panoptic_val(ins_gt_int.cpu(), ins_gt_int.cpu())    \n",
    "    \n",
    "        scores = metric_panoptic_val.compute()\n",
    "        print(\"instance scores: \", scores)\n",
    "        \n",
    "#         print(\"instance metric res: \", res)\n",
    "        \n",
    "        print(\"instance metric iou: \", metric_panoptic_val.iou)\n",
    "        \n",
    "        break\n",
    "\n",
    "# end the debug\n",
    "import sys; sys.exit()"
   ],
   "metadata": {
    "collapsed": false,
    "pycharm": {
     "name": "#%%\n"
    }
   }
  },
  {
   "cell_type": "markdown",
   "source": [
    "# test my visualize"
   ],
   "metadata": {
    "collapsed": false,
    "pycharm": {
     "name": "#%% md\n"
    }
   }
  },
  {
   "cell_type": "code",
   "execution_count": null,
   "outputs": [],
   "source": [
    "import matplotlib\n",
    "with torch.no_grad():\n",
    "    for batch in loader:\n",
    "        batch = {k: v.to(device) if isinstance(v, torch.Tensor) else v for k, v in batch.items()}\n",
    "        pred = network(batch)\n",
    "        \n",
    "        # contents in pred\n",
    "        print(pred.keys())\n",
    "        print(pred['bev'].shape)\n",
    "\n",
    "        visualization = np.vstack(viz(batch=batch, pred=pred))\n",
    "\n",
    "        # print origin gt\n",
    "        # visualization = np.vstack(viz(batch=batch))\n",
    "\n",
    "        images.append(visualization)\n",
    "        \n",
    "        # get cropped shape\n",
    "        visualization = visualization[:, -200:, :]\n",
    "        print(visualization.shape)\n",
    "        \n",
    "        # get np version\n",
    "        v_np = visualization\n",
    "        print('max: ', v_np.max())\n",
    "        print('min: ', v_np.min())\n",
    "        print('unique: ', np.unique(v_np))\n",
    "        \n",
    "\n",
    "        matplotlib.pyplot.figure(figsize=(90, 25))\n",
    "        matplotlib.pyplot.imshow(visualization)\n",
    "        matplotlib.pyplot.imshow(pred['center'].squeeze(0).squeeze(0).cpu())\n",
    "        matplotlib.pyplot.show()\n",
    "        \n",
    "        break\n"
   ],
   "metadata": {
    "collapsed": false,
    "pycharm": {
     "name": "#%%\n"
    }
   }
  },
  {
   "cell_type": "markdown",
   "source": [
    "# Origin Gif Generation"
   ],
   "metadata": {
    "collapsed": false,
    "pycharm": {
     "name": "#%% md\n"
    }
   }
  },
  {
   "cell_type": "code",
   "execution_count": null,
   "outputs": [],
   "source": [
    "\n",
    "with torch.no_grad():\n",
    "    for batch in loader:\n",
    "        batch = {k: v.to(device) if isinstance(v, torch.Tensor) else v for k, v in batch.items()}\n",
    "        pred = network(batch)\n",
    "\n",
    "        visualization = np.vstack(viz(batch=batch, pred=pred))\n",
    "\n",
    "        images.append(visualization)\n",
    "        \n",
    "        break\n",
    "\n",
    "\n",
    "print(\"ready to save...\")\n",
    "# Save a gif\n",
    "duration = [1 for _ in images[:-1]] + [5 for _ in images[-1:]]\n",
    "imageio.mimsave(GIF_PATH, images, duration=duration)\n",
    "\n",
    "html = f'''\n",
    "<div align=\"center\">\n",
    "<img src=\"{GIF_PATH}?modified={time.time()}\" width=\"80%\">\n",
    "</div>\n",
    "'''\n",
    "\n",
    "display(widgets.HTML(html))"
   ],
   "metadata": {
    "collapsed": false,
    "pycharm": {
     "name": "#%%\n"
    }
   }
  },
  {
   "cell_type": "markdown",
   "source": [],
   "metadata": {
    "collapsed": false,
    "pycharm": {
     "name": "#%% md\n"
    }
   }
  },
  {
   "cell_type": "markdown",
   "source": [
    "# BEV 问题 08.15\n",
    "* center中点不为1\n",
    "* 没有instance seg 的标注\n",
    "* 没有instance bbox 的标注"
   ],
   "metadata": {
    "collapsed": false,
    "pycharm": {
     "name": "#%% md\n"
    }
   }
  },
  {
   "cell_type": "markdown",
   "source": [
    "# cvt instance seg baseline\n",
    "* step1：prediction\n",
    "    * 语义分割\n",
    "    * 中心点分割\n",
    "    * offset回归\n",
    "* step2：post process\n",
    "    * center point threshold & maxpooling\n",
    "    * group center location & assign"
   ],
   "metadata": {
    "collapsed": false,
    "pycharm": {
     "name": "#%% md\n"
    }
   }
  },
  {
   "cell_type": "code",
   "execution_count": null,
   "outputs": [],
   "source": [],
   "metadata": {
    "collapsed": false,
    "pycharm": {
     "name": "#%%\n"
    }
   }
  },
  {
   "cell_type": "markdown",
   "source": [
    "# test all"
   ],
   "metadata": {
    "collapsed": false,
    "pycharm": {
     "name": "#%% md\n"
    }
   }
  },
  {
   "cell_type": "code",
   "execution_count": null,
   "outputs": [],
   "source": [
    "with torch.no_grad():\n",
    "    for batch in loader:\n",
    "        batch = {k: v.to(device) if isinstance(v, torch.Tensor) else v for k, v in batch.items()}\n",
    "        pred = network(batch)\n",
    "\n",
    "        visualization = np.vstack(viz(batch=batch, pred=pred))\n",
    "\n",
    "        images.append(visualization)\n",
    "        \n",
    "        break"
   ],
   "metadata": {
    "collapsed": false,
    "pycharm": {
     "name": "#%%\n"
    }
   }
  },
  {
   "cell_type": "markdown",
   "source": [
    "# test instance dispalace"
   ],
   "metadata": {
    "collapsed": false,
    "pycharm": {
     "name": "#%% md\n"
    }
   }
  },
  {
   "cell_type": "code",
   "execution_count": null,
   "outputs": [],
   "source": [
    "from cross_view_transformer.utils.instance import predict_instance_segmentation_and_trajectories\n",
    "\n",
    "def colorize_displacement(disp, if_scale=False):\n",
    "\n",
    "    if if_scale:\n",
    "        pos = np.where(disp < 254)\n",
    "        disp[pos] = disp[pos] * 5 * 2\n",
    "\n",
    "\n",
    "    import matplotlib.colors\n",
    "    import math\n",
    "\n",
    "    a = (np.arctan2(-disp[0], -disp[1]) / math.pi + 1) / 2\n",
    "\n",
    "    r = np.sqrt(disp[0] ** 2 + disp[1] ** 2)\n",
    "    s = r / np.max(r)\n",
    "    hsv_color = np.stack((a, s, np.ones_like(a)), axis=-1)\n",
    "    rgb_color = matplotlib.colors.hsv_to_rgb(hsv_color)\n",
    "\n",
    "    import matplotlib.pylab as plt\n",
    "    plt.imshow(rgb_color)\n",
    "    plt.show()\n",
    "\n",
    "    return rgb_color\n",
    "\n",
    "jump_flag = 1\n",
    "\n",
    "import matplotlib\n",
    "with torch.no_grad():\n",
    "    for batch in loader:\n",
    "        \n",
    "        jump_flag -= 1\n",
    "        if jump_flag != 0:\n",
    "            continue\n",
    "        \n",
    "        batch = {k: v.to(device) if isinstance(v, torch.Tensor) else v for k, v in batch.items()}\n",
    "        # batch keys\n",
    "        print('batch keys: ', batch.keys())\n",
    "        print('center shape: ', batch['center'].shape)\n",
    "        print('instance shape: ', batch['instance_bev'].shape)\n",
    "        print('instance unique: ', torch.unique(batch['instance_bev']))\n",
    "        import matplotlib.pylab as plt\n",
    "        plt.imshow(batch['instance_bev'][0, 0, :, :].cpu())\n",
    "        plt.show()\n",
    "        print('disp shape: ', batch['offset_bev'].shape)\n",
    "        \n",
    "        \n",
    "        disp = batch['offset_bev'].squeeze(0).cpu().numpy()\n",
    "        print('disp shape: ', disp.shape)\n",
    "        \n",
    "        disp_color = colorize_displacement(disp, if_scale=True)\n",
    "        \n",
    "#         matplotlib.pyplot.figure(figsize=(90, 25))\n",
    "#         matplotlib.pyplot.imshow(pred['center'].squeeze(0).squeeze(0).cpu())\n",
    "#         matplotlib.pyplot.show()\n",
    "#         matplotlib.pyplot.imshow(pred_consistent_instance_seg.squeeze(0).squeeze(0).cpu())\n",
    "#         matplotlib.pyplot.show()\n",
    "        \n",
    "        break\n",
    "\n",
    "# end the debug\n",
    "# import sys; sys.exit()"
   ],
   "metadata": {
    "collapsed": false,
    "pycharm": {
     "name": "#%%\n"
    }
   }
  },
  {
   "cell_type": "markdown",
   "source": [
    "# test center process"
   ],
   "metadata": {
    "collapsed": false,
    "pycharm": {
     "name": "#%% md\n"
    }
   }
  },
  {
   "cell_type": "code",
   "execution_count": null,
   "outputs": [],
   "source": [
    "from cross_view_transformer.utils.instance import predict_instance_segmentation_and_trajectories\n",
    "\n",
    "jump_flag = 1\n",
    "\n",
    "import matplotlib\n",
    "with torch.no_grad():\n",
    "    for batch in loader:\n",
    "        jump_flag -= 1\n",
    "        if jump_flag != 0:\n",
    "            continue\n",
    "        batch = {k: v.to(device) if isinstance(v, torch.Tensor) else v for k, v in batch.items()}\n",
    "        \n",
    "        # batch keys\n",
    "        print('batch keys: ', batch.keys())\n",
    "        \n",
    "        pred = network(batch)\n",
    "        \n",
    "        # center scale\n",
    "        \n",
    "        # version: 1\n",
    "        # pos = torch.where(pred['center'] > 0)\n",
    "        # pred['center'][pos] *= 10\n",
    "        # print(\"postive center: \", pred['center'][pos].unique())\n",
    "        \n",
    "        # version: 2\n",
    "        pred['center'] = torch.sigmoid(pred['center'])\n",
    "        \n",
    "        # version: 3\n",
    "#         pred['center'] = batch['center']\n",
    "        \n",
    "        \n",
    "        # for center process preprocess\n",
    "        n, c, h, w = pred['bev'].shape\n",
    "        \n",
    "        ground_truth = batch['bev'][:, 4:8,:,:].sum(1, keepdim=False)\n",
    "        \n",
    "        print('ground_truth shape: ', ground_truth.shape)\n",
    "        print(ground_truth)\n",
    "        \n",
    "#         pred['segmentation'] = ground_truth.unsqueeze(1).cpu() * 0.6\n",
    "#         pred['segmentation'] = pred['bev'].unsqueeze(1).cpu()\n",
    "        # sigmoid bev version\n",
    "        pred['segmentation'] = torch.sigmoid(pred['bev'].unsqueeze(1).cpu())\n",
    "\n",
    "        print('pred shape: ', pred['segmentation'].shape)\n",
    "        pred['instance_center'] = pred['center'].unsqueeze(1).cpu()\n",
    "        # pred['instance_offset'] = torch.zeros([n, 1, 2, h, w])\n",
    "        pred['instance_offset'] = batch['offset_bev'].unsqueeze(0).cpu()\n",
    "        \n",
    "        print('center shape: ', pred['center'].shape)\n",
    "        print('center unique: ', pred['center'].unique)\n",
    "        print(pred['instance_offset'].shape)\n",
    "        \n",
    "        \n",
    "        pred['instance_flow'] = None\n",
    "        thresh = 0.4 * torch.ones_like(pred['segmentation'], device=pred['segmentation'].device)\n",
    "        pred['segmentation'] = torch.cat((thresh, pred['segmentation']), 2)\n",
    "        # center generation\n",
    "        pred_consistent_instance_seg = predict_instance_segmentation_and_trajectories(\n",
    "                pred, compute_matched_centers=False, make_consistent=True\n",
    "            )\n",
    "        \n",
    "        print('instance seg len: ', len(pred_consistent_instance_seg))\n",
    "#         import sys; sys.exit()\n",
    "        print('instance seg shape: ', pred_consistent_instance_seg.shape)\n",
    "        \n",
    "        ins_np = pred_consistent_instance_seg.numpy()\n",
    "        print('ins np unique: ', np.unique(ins_np))\n",
    "        \n",
    "#         pos = np.where(ins_np != 0)\n",
    "#         print('ins np non-zero location: ', pos)\n",
    "        \n",
    "        # contents in pred\n",
    "        print(pred.keys())\n",
    "        print(pred['bev'].shape)\n",
    "\n",
    "        visualization = np.vstack(viz(batch=batch, pred=pred))\n",
    "        \n",
    "        # show details of pred['center']\n",
    "        # visualization = pred['center'].cpu()\n",
    "\n",
    "        # print origin gt\n",
    "        # visualization = np.vstack(viz(batch=batch))\n",
    "\n",
    "        images.append(visualization)\n",
    "        \n",
    "        # get cropped shape\n",
    "        visualization = visualization[:, -200:, :]\n",
    "        print(visualization.shape)\n",
    "        \n",
    "        # get np version\n",
    "        v_np = visualization\n",
    "        print('max: ', v_np.max())\n",
    "        print('min: ', v_np.min())\n",
    "        print('unique: ', np.unique(v_np))\n",
    "        \n",
    "\n",
    "        matplotlib.pyplot.figure(figsize=(90, 25))\n",
    "#         matplotlib.pyplot.imshow(visualization)\n",
    "        matplotlib.pyplot.imshow(pred['center'].squeeze(0).squeeze(0).cpu())\n",
    "        matplotlib.pyplot.show()\n",
    "        matplotlib.pyplot.imshow(pred_consistent_instance_seg.squeeze(0).squeeze(0).cpu())\n",
    "        matplotlib.pyplot.show()\n",
    "        \n",
    "        # test metric\n",
    "#         !pip list\n",
    "#         from pytorch_lightning.metrics.metric import Metric\n",
    "#         from torchmetrics import Metric\n",
    "#         from torchmetrics.classification import stat_scores_multiple_classes\n",
    "#         from pytorch_lightning.metrics.functional.reduction import reduce\n",
    "\n",
    "        # test video format input\n",
    "#         pred_consistent_instance_seg = pred_consistent_instance_seg.unsqueeze(0)\n",
    "#         batch['instance_bev'] = batch['instance_bev'].unsqueeze(0)\n",
    "\n",
    "        from cross_view_transformer.metrics import PanopticMetric\n",
    "        metric_panoptic_val = PanopticMetric(n_classes=2)\n",
    "        print(\"instance bev pred shape: \", pred_consistent_instance_seg.shape)\n",
    "        print(\"instance bev pred type: \", pred_consistent_instance_seg.dtype)\n",
    "        print(\"instance bev gt shape:\", batch['instance_bev'].shape)\n",
    "        print(\"instance bev gt type: \", batch['instance_bev'].dtype)\n",
    "        \n",
    "        print(\"instance_bev_unique before turn: \", torch.unique(batch['instance_bev']))\n",
    "#         batch['instance_bev'] = batch['instance_bev'].type_as(pred_consistent_instance_seg)\n",
    "        print(\"instance_bev_unique after turn: \", torch.unique(batch['instance_bev']))\n",
    "        \n",
    "        # save result for test\n",
    "        import numpy as np\n",
    "        np.save('./pred.npy', pred_consistent_instance_seg.cpu().numpy())\n",
    "        np.save('./gt.npy', batch['instance_bev'].cpu().numpy())\n",
    "        \n",
    "        # instance gt process\n",
    "        ins_gt = batch['instance_bev']\n",
    "        ins_gt_unique = torch.unique(batch['instance_bev'])\n",
    "        ins_gt_int = torch.zeros_like(batch['instance_bev'], dtype=torch.int64)\n",
    "        for i in range(len(ins_gt_unique)):\n",
    "            pos = torch.where(ins_gt == ins_gt_unique[i])\n",
    "            ins_gt_int[pos] = i\n",
    "        \n",
    "        print('ins_gt_int unique: ', torch.unique(ins_gt_int))\n",
    "        metric_panoptic_val(pred_consistent_instance_seg.cpu(), ins_gt_int.cpu())\n",
    "        # gt test\n",
    "#         metric_panoptic_val(ins_gt_int.cpu(), ins_gt_int.cpu())    \n",
    "    \n",
    "        scores = metric_panoptic_val.compute()\n",
    "        print(\"instance scores: \", scores)\n",
    "        \n",
    "#         print(\"instance metric res: \", res)\n",
    "        \n",
    "        print(\"instance metric iou: \", metric_panoptic_val.iou)\n",
    "        \n",
    "        break\n",
    "\n",
    "# end the debug\n",
    "import sys; sys.exit()"
   ],
   "metadata": {
    "collapsed": false,
    "pycharm": {
     "name": "#%%\n"
    }
   }
  },
  {
   "cell_type": "markdown",
   "source": [
    "# test my visualize"
   ],
   "metadata": {
    "collapsed": false,
    "pycharm": {
     "name": "#%% md\n"
    }
   }
  },
  {
   "cell_type": "code",
   "execution_count": null,
   "outputs": [],
   "source": [
    "import matplotlib\n",
    "with torch.no_grad():\n",
    "    for batch in loader:\n",
    "        batch = {k: v.to(device) if isinstance(v, torch.Tensor) else v for k, v in batch.items()}\n",
    "        pred = network(batch)\n",
    "        \n",
    "        # contents in pred\n",
    "        print(pred.keys())\n",
    "        print(pred['bev'].shape)\n",
    "\n",
    "        visualization = np.vstack(viz(batch=batch, pred=pred))\n",
    "\n",
    "        # print origin gt\n",
    "        # visualization = np.vstack(viz(batch=batch))\n",
    "\n",
    "        images.append(visualization)\n",
    "        \n",
    "        # get cropped shape\n",
    "        visualization = visualization[:, -200:, :]\n",
    "        print(visualization.shape)\n",
    "        \n",
    "        # get np version\n",
    "        v_np = visualization\n",
    "        print('max: ', v_np.max())\n",
    "        print('min: ', v_np.min())\n",
    "        print('unique: ', np.unique(v_np))\n",
    "        \n",
    "\n",
    "        matplotlib.pyplot.figure(figsize=(90, 25))\n",
    "        matplotlib.pyplot.imshow(visualization)\n",
    "        matplotlib.pyplot.imshow(pred['center'].squeeze(0).squeeze(0).cpu())\n",
    "        matplotlib.pyplot.show()\n",
    "        \n",
    "        break\n"
   ],
   "metadata": {
    "collapsed": false,
    "pycharm": {
     "name": "#%%\n"
    }
   }
  },
  {
   "cell_type": "markdown",
   "source": [
    "# Origin Gif Generation"
   ],
   "metadata": {
    "collapsed": false,
    "pycharm": {
     "name": "#%% md\n"
    }
   }
  },
  {
   "cell_type": "code",
   "execution_count": null,
   "outputs": [],
   "source": [
    "\n",
    "with torch.no_grad():\n",
    "    for batch in loader:\n",
    "        batch = {k: v.to(device) if isinstance(v, torch.Tensor) else v for k, v in batch.items()}\n",
    "        pred = network(batch)\n",
    "\n",
    "        visualization = np.vstack(viz(batch=batch, pred=pred))\n",
    "\n",
    "        images.append(visualization)\n",
    "        \n",
    "        break\n",
    "\n",
    "\n",
    "print(\"ready to save...\")\n",
    "# Save a gif\n",
    "duration = [1 for _ in images[:-1]] + [5 for _ in images[-1:]]\n",
    "imageio.mimsave(GIF_PATH, images, duration=duration)\n",
    "\n",
    "html = f'''\n",
    "<div align=\"center\">\n",
    "<img src=\"{GIF_PATH}?modified={time.time()}\" width=\"80%\">\n",
    "</div>\n",
    "'''\n",
    "\n",
    "display(widgets.HTML(html))"
   ],
   "metadata": {
    "collapsed": false,
    "pycharm": {
     "name": "#%%\n"
    }
   }
  },
  {
   "cell_type": "markdown",
   "source": [],
   "metadata": {
    "collapsed": false,
    "pycharm": {
     "name": "#%% md\n"
    }
   }
  },
  {
   "cell_type": "markdown",
   "source": [
    "# BEV 问题 08.15\n",
    "* center中点不为1\n",
    "* 没有instance seg 的标注\n",
    "* 没有instance bbox 的标注"
   ],
   "metadata": {
    "collapsed": false,
    "pycharm": {
     "name": "#%% md\n"
    }
   }
  },
  {
   "cell_type": "markdown",
   "source": [
    "# cvt instance seg baseline\n",
    "* step1：prediction\n",
    "    * 语义分割\n",
    "    * 中心点分割\n",
    "    * offset回归\n",
    "* step2：post process\n",
    "    * center point threshold & maxpooling\n",
    "    * group center location & assign"
   ],
   "metadata": {
    "collapsed": false,
    "pycharm": {
     "name": "#%% md\n"
    }
   }
  },
  {
   "cell_type": "code",
   "execution_count": null,
   "outputs": [],
   "source": [],
   "metadata": {
    "collapsed": false,
    "pycharm": {
     "name": "#%%\n"
    }
   }
  },
  {
   "cell_type": "markdown",
   "metadata": {
    "pycharm": {
     "name": "#%% md\n"
    }
   },
   "source": [
    "# test all"
   ]
  },
  {
   "cell_type": "code",
   "execution_count": null,
   "metadata": {
    "pycharm": {
     "name": "#%%\n"
    }
   },
   "outputs": [],
   "source": [
    "with torch.no_grad():\n",
    "    for batch in loader:\n",
    "        batch = {k: v.to(device) if isinstance(v, torch.Tensor) else v for k, v in batch.items()}\n",
    "        pred = network(batch)\n",
    "\n",
    "        visualization = np.vstack(viz(batch=batch, pred=pred))\n",
    "\n",
    "        images.append(visualization)\n",
    "        \n",
    "        break"
   ]
  },
  {
   "cell_type": "markdown",
   "metadata": {
    "pycharm": {
     "name": "#%% md\n"
    }
   },
   "source": [
    "# test instance dispalace"
   ]
  },
  {
   "cell_type": "code",
   "execution_count": 5,
   "metadata": {
    "pycharm": {
     "name": "#%%\n"
    }
   },
   "outputs": [
    {
     "name": "stdout",
     "output_type": "stream",
     "text": [
      "batch keys:  dict_keys(['cam_idx', 'image', 'intrinsics', 'extrinsics', 'bev', 'view', 'visibility', 'center', 'pose', 'instance_bev', 'offset_bev'])\n",
      "center shape:  torch.Size([1, 1, 200, 200])\n",
      "instance shape:  torch.Size([1, 1, 200, 200])\n",
      "instance unique:  tensor([0.0000, 0.0039, 0.0078, 0.0118, 0.0196, 0.0235, 0.0314, 0.0353, 0.0392,\n",
      "        0.0471, 0.0510, 0.0588], device='cuda:0')\n"
     ]
    },
    {
     "data": {
      "image/png": "[encoded data removed]",
      "text/plain": [
       "<Figure size 432x288 with 1 Axes>"
      ]
     },
     "metadata": {
      "needs_background": "light"
     },
     "output_type": "display_data"
    },
    {
     "name": "stdout",
     "output_type": "stream",
     "text": [
      "disp shape:  torch.Size([1, 2, 200, 200])\n",
      "disp shape:  (2, 200, 200)\n"
     ]
    },
    {
     "data": {
      "image/png": "[encoded data removed]",
      "text/plain": [
       "<Figure size 432x288 with 1 Axes>"
      ]
     },
     "metadata": {
      "needs_background": "light"
     },
     "output_type": "display_data"
    }
   ],
   "source": [
    "from cross_view_transformer.utils.instance import predict_instance_segmentation_and_trajectories\n",
    "\n",
    "def colorize_displacement(disp, if_scale=False):\n",
    "\n",
    "    if if_scale:\n",
    "        pos = np.where(disp < 254)\n",
    "        disp[pos] = disp[pos] * 5 * 2\n",
    "\n",
    "\n",
    "    import matplotlib.colors\n",
    "    import math\n",
    "\n",
    "    a = (np.arctan2(-disp[0], -disp[1]) / math.pi + 1) / 2\n",
    "\n",
    "    r = np.sqrt(disp[0] ** 2 + disp[1] ** 2)\n",
    "    s = r / np.max(r)\n",
    "    hsv_color = np.stack((a, s, np.ones_like(a)), axis=-1)\n",
    "    rgb_color = matplotlib.colors.hsv_to_rgb(hsv_color)\n",
    "\n",
    "    import matplotlib.pylab as plt\n",
    "    plt.imshow(rgb_color)\n",
    "    plt.show()\n",
    "\n",
    "    return rgb_color\n",
    "\n",
    "jump_flag = 1\n",
    "\n",
    "import matplotlib\n",
    "with torch.no_grad():\n",
    "    for batch in loader:\n",
    "        \n",
    "        jump_flag -= 1\n",
    "        if jump_flag != 0:\n",
    "            continue\n",
    "        \n",
    "        batch = {k: v.to(device) if isinstance(v, torch.Tensor) else v for k, v in batch.items()}\n",
    "        # batch keys\n",
    "        print('batch keys: ', batch.keys())\n",
    "        print('center shape: ', batch['center'].shape)\n",
    "        print('instance shape: ', batch['instance_bev'].shape)\n",
    "        print('instance unique: ', torch.unique(batch['instance_bev']))\n",
    "        import matplotlib.pylab as plt\n",
    "        plt.imshow(batch['instance_bev'][0, 0, :, :].cpu())\n",
    "        plt.show()\n",
    "        print('disp shape: ', batch['offset_bev'].shape)\n",
    "        \n",
    "        \n",
    "        disp = batch['offset_bev'].squeeze(0).cpu().numpy()\n",
    "        print('disp shape: ', disp.shape)\n",
    "        \n",
    "        disp_color = colorize_displacement(disp, if_scale=True)\n",
    "        \n",
    "#         matplotlib.pyplot.figure(figsize=(90, 25))\n",
    "#         matplotlib.pyplot.imshow(pred['center'].squeeze(0).squeeze(0).cpu())\n",
    "#         matplotlib.pyplot.show()\n",
    "#         matplotlib.pyplot.imshow(pred_consistent_instance_seg.squeeze(0).squeeze(0).cpu())\n",
    "#         matplotlib.pyplot.show()\n",
    "        \n",
    "        break\n",
    "\n",
    "# end the debug\n",
    "# import sys; sys.exit()"
   ]
  },
  {
   "cell_type": "markdown",
   "metadata": {
    "pycharm": {
     "name": "#%% md\n"
    }
   },
   "source": [
    "# test center process"
   ]
  },
  {
   "cell_type": "code",
   "execution_count": 8,
   "metadata": {
    "pycharm": {
     "name": "#%%\n"
    }
   },
   "outputs": [
    {
     "name": "stdout",
     "output_type": "stream",
     "text": [
      "batch keys:  dict_keys(['cam_idx', 'image', 'intrinsics', 'extrinsics', 'bev', 'view', 'visibility', 'center', 'pose', 'instance_bev', 'offset_bev'])\n",
      "ground_truth shape:  torch.Size([1, 200, 200])\n",
      "tensor([[[0., 0., 0.,  ..., 0., 0., 0.],\n",
      "         [0., 0., 0.,  ..., 0., 0., 0.],\n",
      "         [0., 0., 0.,  ..., 0., 0., 0.],\n",
      "         ...,\n",
      "         [0., 0., 0.,  ..., 0., 0., 0.],\n",
      "         [0., 0., 0.,  ..., 0., 0., 0.],\n",
      "         [0., 0., 0.,  ..., 0., 0., 0.]]], device='cuda:0')\n",
      "pred shape:  torch.Size([1, 1, 1, 200, 200])\n",
      "center shape:  torch.Size([1, 1, 200, 200])\n",
      "center unique:  <bound method Tensor.unique of tensor([[[[9.3186e-03, 7.8810e-03, 7.5694e-03,  ..., 1.3729e-03,\n",
      "           1.8114e-03, 3.7822e-03],\n",
      "          [6.7294e-03, 5.2592e-03, 4.7385e-03,  ..., 9.1085e-05,\n",
      "           1.9287e-04, 6.0437e-04],\n",
      "          [6.8046e-03, 5.5018e-03, 4.8871e-03,  ..., 3.8622e-05,\n",
      "           8.5458e-05, 2.8774e-04],\n",
      "          ...,\n",
      "          [2.6951e-03, 2.0175e-03, 1.8153e-03,  ..., 9.5930e-03,\n",
      "           4.1351e-03, 5.2749e-03],\n",
      "          [2.8041e-03, 2.0107e-03, 1.8690e-03,  ..., 6.6853e-03,\n",
      "           3.6990e-03, 5.5163e-03],\n",
      "          [4.8112e-03, 4.6891e-03, 4.5731e-03,  ..., 7.6549e-03,\n",
      "           5.7303e-03, 7.9876e-03]]]], device='cuda:0')>\n",
      "torch.Size([1, 1, 2, 200, 200])\n",
      "=============ins pred==============, preds max: tensor(0.9650)\n",
      "=============ins pred==============, preds min: tensor(3.5425e-05)\n",
      "=============ins pred==============, preds max: tensor(1)\n",
      "=============ins pred==============, preds min: tensor(0)\n",
      "foreground_masks sum: tensor(938)\n",
      "Using zero flow because instance_future_output is None\n",
      "instance seg len:  1\n",
      "instance seg shape:  torch.Size([1, 1, 200, 200])\n",
      "ins np unique:  [ 0  1  2  3  4  5  6  7  8  9 10]\n",
      "dict_keys(['bev', 'center', 'segmentation', 'instance_center', 'instance_offset', 'instance_flow'])\n",
      "torch.Size([1, 1, 200, 200])\n",
      "(200, 200, 3)\n",
      "max:  254\n",
      "min:  0\n",
      "unique:  [  0   3 164 252 254]\n"
     ]
    },
    {
     "data": {
      "image/png": "[encoded data removed]",
      "text/plain": [
       "<Figure size 6480x1800 with 1 Axes>"
      ]
     },
     "metadata": {
      "needs_background": "light"
     },
     "output_type": "display_data"
    },
    {
     "data": {
      "image/png": "[encoded data removed]",
      "text/plain": [
       "<Figure size 432x288 with 1 Axes>"
      ]
     },
     "metadata": {
      "needs_background": "light"
     },
     "output_type": "display_data"
    },
    {
     "name": "stdout",
     "output_type": "stream",
     "text": [
      "instance bev pred shape:  torch.Size([1, 1, 200, 200])\n",
      "instance bev pred type:  torch.int64\n",
      "instance bev gt shape: torch.Size([1, 1, 200, 200])\n",
      "instance bev gt type:  torch.float32\n",
      "instance_bev_unique before turn:  tensor([0.0000, 0.0039, 0.0078, 0.0118, 0.0196, 0.0235, 0.0314, 0.0353, 0.0392,\n",
      "        0.0471, 0.0510, 0.0588], device='cuda:0')\n",
      "instance_bev_unique after turn:  tensor([0.0000, 0.0039, 0.0078, 0.0118, 0.0196, 0.0235, 0.0314, 0.0353, 0.0392,\n",
      "        0.0471, 0.0510, 0.0588], device='cuda:0')\n",
      "ins_gt_int unique:  tensor([ 0,  1,  2,  3,  4,  5,  6,  7,  8,  9, 10, 11], device='cuda:0')\n",
      "prediction torch.Size([40000])\n",
      "pred_to_cls torch.Size([13])\n",
      "iou:  torch.Size([13, 13])\n",
      "tp:  tensor([1., 7.])\n",
      "fp:  tensor([0., 3.])\n",
      "fn:  tensor([0., 4.])\n",
      "instance scores:  {'pq': tensor([0.9836, 0.5953]), 'sq': tensor([0.9836, 0.8929]), 'rq': tensor([1.0000, 0.6667]), 'denominator': tensor([ 1.0000, 10.5000])}\n",
      "instance metric iou:  tensor([0.9836, 6.2501])\n"
     ]
    },
    {
     "ename": "SystemExit",
     "evalue": "",
     "output_type": "error",
     "traceback": [
      "An exception has occurred, use %tb to see the full traceback.\n",
      "\u001B[0;31mSystemExit\u001B[0m\n"
     ]
    }
   ],
   "source": [
    "from cross_view_transformer.utils.instance import predict_instance_segmentation_and_trajectories\n",
    "\n",
    "jump_flag = 1\n",
    "\n",
    "import matplotlib\n",
    "with torch.no_grad():\n",
    "    for batch in loader:\n",
    "        jump_flag -= 1\n",
    "        if jump_flag != 0:\n",
    "            continue\n",
    "        batch = {k: v.to(device) if isinstance(v, torch.Tensor) else v for k, v in batch.items()}\n",
    "        \n",
    "        # batch keys\n",
    "        print('batch keys: ', batch.keys())\n",
    "        \n",
    "        pred = network(batch)\n",
    "        \n",
    "        # center scale\n",
    "        \n",
    "        # version: 1\n",
    "        # pos = torch.where(pred['center'] > 0)\n",
    "        # pred['center'][pos] *= 10\n",
    "        # print(\"postive center: \", pred['center'][pos].unique())\n",
    "        \n",
    "        # version: 2\n",
    "        pred['center'] = torch.sigmoid(pred['center'])\n",
    "        \n",
    "        # version: 3\n",
    "#         pred['center'] = batch['center']\n",
    "        \n",
    "        \n",
    "        # for center process preprocess\n",
    "        n, c, h, w = pred['bev'].shape\n",
    "        \n",
    "        ground_truth = batch['bev'][:, 4:8,:,:].sum(1, keepdim=False)\n",
    "        \n",
    "        print('ground_truth shape: ', ground_truth.shape)\n",
    "        print(ground_truth)\n",
    "        \n",
    "#         pred['segmentation'] = ground_truth.unsqueeze(1).cpu() * 0.6\n",
    "#         pred['segmentation'] = pred['bev'].unsqueeze(1).cpu()\n",
    "        # sigmoid bev version\n",
    "        pred['segmentation'] = torch.sigmoid(pred['bev'].unsqueeze(1).cpu())\n",
    "\n",
    "        print('pred shape: ', pred['segmentation'].shape)\n",
    "        pred['instance_center'] = pred['center'].unsqueeze(1).cpu()\n",
    "        # pred['instance_offset'] = torch.zeros([n, 1, 2, h, w])\n",
    "        pred['instance_offset'] = batch['offset_bev'].unsqueeze(0).cpu()\n",
    "        \n",
    "        print('center shape: ', pred['center'].shape)\n",
    "        print('center unique: ', pred['center'].unique)\n",
    "        print(pred['instance_offset'].shape)\n",
    "        \n",
    "        \n",
    "        pred['instance_flow'] = None\n",
    "        thresh = 0.4 * torch.ones_like(pred['segmentation'], device=pred['segmentation'].device)\n",
    "        pred['segmentation'] = torch.cat((thresh, pred['segmentation']), 2)\n",
    "        # center generation\n",
    "        pred_consistent_instance_seg = predict_instance_segmentation_and_trajectories(\n",
    "                pred, compute_matched_centers=False, make_consistent=True\n",
    "            )\n",
    "        \n",
    "        print('instance seg len: ', len(pred_consistent_instance_seg))\n",
    "#         import sys; sys.exit()\n",
    "        print('instance seg shape: ', pred_consistent_instance_seg.shape)\n",
    "        \n",
    "        ins_np = pred_consistent_instance_seg.numpy()\n",
    "        print('ins np unique: ', np.unique(ins_np))\n",
    "        \n",
    "#         pos = np.where(ins_np != 0)\n",
    "#         print('ins np non-zero location: ', pos)\n",
    "        \n",
    "        # contents in pred\n",
    "        print(pred.keys())\n",
    "        print(pred['bev'].shape)\n",
    "\n",
    "        visualization = np.vstack(viz(batch=batch, pred=pred))\n",
    "        \n",
    "        # show details of pred['center']\n",
    "        # visualization = pred['center'].cpu()\n",
    "\n",
    "        # print origin gt\n",
    "        # visualization = np.vstack(viz(batch=batch))\n",
    "\n",
    "        images.append(visualization)\n",
    "        \n",
    "        # get cropped shape\n",
    "        visualization = visualization[:, -200:, :]\n",
    "        print(visualization.shape)\n",
    "        \n",
    "        # get np version\n",
    "        v_np = visualization\n",
    "        print('max: ', v_np.max())\n",
    "        print('min: ', v_np.min())\n",
    "        print('unique: ', np.unique(v_np))\n",
    "        \n",
    "\n",
    "        matplotlib.pyplot.figure(figsize=(90, 25))\n",
    "#         matplotlib.pyplot.imshow(visualization)\n",
    "        matplotlib.pyplot.imshow(pred['center'].squeeze(0).squeeze(0).cpu())\n",
    "        matplotlib.pyplot.show()\n",
    "        matplotlib.pyplot.imshow(pred_consistent_instance_seg.squeeze(0).squeeze(0).cpu())\n",
    "        matplotlib.pyplot.show()\n",
    "        \n",
    "        # test metric\n",
    "#         !pip list\n",
    "#         from pytorch_lightning.metrics.metric import Metric\n",
    "#         from torchmetrics import Metric\n",
    "#         from torchmetrics.classification import stat_scores_multiple_classes\n",
    "#         from pytorch_lightning.metrics.functional.reduction import reduce\n",
    "\n",
    "        # test video format input\n",
    "#         pred_consistent_instance_seg = pred_consistent_instance_seg.unsqueeze(0)\n",
    "#         batch['instance_bev'] = batch['instance_bev'].unsqueeze(0)\n",
    "\n",
    "        from cross_view_transformer.metrics import PanopticMetric\n",
    "        metric_panoptic_val = PanopticMetric(n_classes=2)\n",
    "        print(\"instance bev pred shape: \", pred_consistent_instance_seg.shape)\n",
    "        print(\"instance bev pred type: \", pred_consistent_instance_seg.dtype)\n",
    "        print(\"instance bev gt shape:\", batch['instance_bev'].shape)\n",
    "        print(\"instance bev gt type: \", batch['instance_bev'].dtype)\n",
    "        \n",
    "        print(\"instance_bev_unique before turn: \", torch.unique(batch['instance_bev']))\n",
    "#         batch['instance_bev'] = batch['instance_bev'].type_as(pred_consistent_instance_seg)\n",
    "        print(\"instance_bev_unique after turn: \", torch.unique(batch['instance_bev']))\n",
    "        \n",
    "        # save result for test\n",
    "        import numpy as np\n",
    "        np.save('./pred.npy', pred_consistent_instance_seg.cpu().numpy())\n",
    "        np.save('./gt.npy', batch['instance_bev'].cpu().numpy())\n",
    "        \n",
    "        # instance gt process\n",
    "        ins_gt = batch['instance_bev']\n",
    "        ins_gt_unique = torch.unique(batch['instance_bev'])\n",
    "        ins_gt_int = torch.zeros_like(batch['instance_bev'], dtype=torch.int64)\n",
    "        for i in range(len(ins_gt_unique)):\n",
    "            pos = torch.where(ins_gt == ins_gt_unique[i])\n",
    "            ins_gt_int[pos] = i\n",
    "        \n",
    "        print('ins_gt_int unique: ', torch.unique(ins_gt_int))\n",
    "        metric_panoptic_val(pred_consistent_instance_seg.cpu(), ins_gt_int.cpu())\n",
    "        # gt test\n",
    "#         metric_panoptic_val(ins_gt_int.cpu(), ins_gt_int.cpu())    \n",
    "    \n",
    "        scores = metric_panoptic_val.compute()\n",
    "        print(\"instance scores: \", scores)\n",
    "        \n",
    "#         print(\"instance metric res: \", res)\n",
    "        \n",
    "        print(\"instance metric iou: \", metric_panoptic_val.iou)\n",
    "        \n",
    "        break\n",
    "\n",
    "# end the debug\n",
    "import sys; sys.exit()"
   ]
  },
  {
   "cell_type": "markdown",
   "metadata": {
    "pycharm": {
     "name": "#%% md\n"
    }
   },
   "source": [
    "# test my visualize"
   ]
  },
  {
   "cell_type": "code",
   "execution_count": null,
   "metadata": {
    "pycharm": {
     "name": "#%%\n"
    }
   },
   "outputs": [],
   "source": [
    "import matplotlib\n",
    "with torch.no_grad():\n",
    "    for batch in loader:\n",
    "        batch = {k: v.to(device) if isinstance(v, torch.Tensor) else v for k, v in batch.items()}\n",
    "        pred = network(batch)\n",
    "        \n",
    "        # contents in pred\n",
    "        print(pred.keys())\n",
    "        print(pred['bev'].shape)\n",
    "\n",
    "        visualization = np.vstack(viz(batch=batch, pred=pred))\n",
    "\n",
    "        # print origin gt\n",
    "        # visualization = np.vstack(viz(batch=batch))\n",
    "\n",
    "        images.append(visualization)\n",
    "        \n",
    "        # get cropped shape\n",
    "        visualization = visualization[:, -200:, :]\n",
    "        print(visualization.shape)\n",
    "        \n",
    "        # get np version\n",
    "        v_np = visualization\n",
    "        print('max: ', v_np.max())\n",
    "        print('min: ', v_np.min())\n",
    "        print('unique: ', np.unique(v_np))\n",
    "        \n",
    "\n",
    "        matplotlib.pyplot.figure(figsize=(90, 25))\n",
    "        matplotlib.pyplot.imshow(visualization)\n",
    "        matplotlib.pyplot.imshow(pred['center'].squeeze(0).squeeze(0).cpu())\n",
    "        matplotlib.pyplot.show()\n",
    "        \n",
    "        break\n"
   ]
  },
  {
   "cell_type": "markdown",
   "metadata": {
    "pycharm": {
     "name": "#%% md\n"
    }
   },
   "source": [
    "# Origin Gif Generation"
   ]
  },
  {
   "cell_type": "code",
   "execution_count": null,
   "metadata": {
    "pycharm": {
     "name": "#%%\n"
    }
   },
   "outputs": [],
   "source": [
    "\n",
    "with torch.no_grad():\n",
    "    for batch in loader:\n",
    "        batch = {k: v.to(device) if isinstance(v, torch.Tensor) else v for k, v in batch.items()}\n",
    "        pred = network(batch)\n",
    "\n",
    "        visualization = np.vstack(viz(batch=batch, pred=pred))\n",
    "\n",
    "        images.append(visualization)\n",
    "        \n",
    "        break\n",
    "\n",
    "\n",
    "print(\"ready to save...\")\n",
    "# Save a gif\n",
    "duration = [1 for _ in images[:-1]] + [5 for _ in images[-1:]]\n",
    "imageio.mimsave(GIF_PATH, images, duration=duration)\n",
    "\n",
    "html = f'''\n",
    "<div align=\"center\">\n",
    "<img src=\"{GIF_PATH}?modified={time.time()}\" width=\"80%\">\n",
    "</div>\n",
    "'''\n",
    "\n",
    "display(widgets.HTML(html))"
   ]
  },
  {
   "cell_type": "markdown",
   "metadata": {
    "pycharm": {
     "name": "#%% md\n"
    }
   },
   "source": []
  },
  {
   "cell_type": "markdown",
   "metadata": {
    "pycharm": {
     "name": "#%% md\n"
    }
   },
   "source": [
    "# BEV 问题 08.15\n",
    "* center中点不为1\n",
    "* 没有instance seg 的标注\n",
    "* 没有instance bbox 的标注"
   ]
  },
  {
   "cell_type": "markdown",
   "metadata": {
    "pycharm": {
     "name": "#%% md\n"
    }
   },
   "source": [
    "# cvt instance seg baseline\n",
    "* step1：prediction\n",
    "    * 语义分割\n",
    "    * 中心点分割\n",
    "    * offset回归\n",
    "* step2：post process\n",
    "    * center point threshold & maxpooling\n",
    "    * group center location & assign"
   ]
  },
  {
   "cell_type": "code",
   "execution_count": null,
   "metadata": {
    "pycharm": {
     "name": "#%%\n"
    }
   },
   "outputs": [],
   "source": []
  }
 ],
 "metadata": {
  "interpreter": {
   "hash": "b5f5dfcf6d7848e0c3dac37df27b69d0d5f79a0c0f03f8729db3afb13fab9666"
  },
  "kernelspec": {
   "display_name": "Python 3 (ipykernel)",
   "language": "python",
   "name": "python3"
  },
  "language_info": {
   "codemirror_mode": {
    "name": "ipython",
    "version": 3
   },
   "file_extension": ".py",
   "mimetype": "text/x-python",
   "name": "python",
   "nbconvert_exporter": "python",
   "pygments_lexer": "ipython3",
   "version": "3.8.13"
  }
 },
 "nbformat": 4,
 "nbformat_minor": 2
}